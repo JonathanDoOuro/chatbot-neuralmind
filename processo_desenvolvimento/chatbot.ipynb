{
  "nbformat": 4,
  "nbformat_minor": 0,
  "metadata": {
    "colab": {
      "provenance": []
    },
    "kernelspec": {
      "name": "python3",
      "display_name": "Python 3"
    },
    "language_info": {
      "name": "python"
    }
  },
  "cells": [
    {
      "cell_type": "markdown",
      "source": [
        "## Dependencias"
      ],
      "metadata": {
        "id": "55Fyl4InUs07"
      }
    },
    {
      "cell_type": "code",
      "source": [
        "%%capture\n",
        "!pip install huggingface_hub datasets\n",
        "!pip install langchain\n",
        "!pip install openai\n",
        "!pip install nltk\n",
        "!pip install chromadb\n",
        "!pip install unstructured\n",
        "!pip install pdf2image\n",
        "!pip install pdfminer\n",
        "!pip install llmsherpa\n",
        "!pip install tiktoken\n",
        "!pip install sentence_transformers"
      ],
      "metadata": {
        "id": "9Gt2nLObm6W8"
      },
      "execution_count": 2,
      "outputs": []
    },
    {
      "cell_type": "code",
      "source": [
        "import os\n",
        "\n",
        "api_key = input(\"Digite a chave da API da Open AI: \")\n",
        "\n",
        "os.environ['OPENAI_API_KEY'] = api_key"
      ],
      "metadata": {
        "id": "38EK6lEXPMp1"
      },
      "execution_count": null,
      "outputs": []
    },
    {
      "cell_type": "markdown",
      "source": [
        "## Carregas dados"
      ],
      "metadata": {
        "id": "qlAx89UHTIiH"
      }
    },
    {
      "cell_type": "code",
      "source": [
        "from langchain.document_loaders import WebBaseLoader\n",
        "\n",
        "loader = WebBaseLoader(\"https://www.pg.unicamp.br/norma/31594/0\")\n",
        "docs = loader.load()"
      ],
      "metadata": {
        "id": "qdc_AbvtTLaO"
      },
      "execution_count": null,
      "outputs": []
    },
    {
      "cell_type": "markdown",
      "source": [
        "## split RecursiveCharacterTextSplitter"
      ],
      "metadata": {
        "id": "_dyhB4YA1yVb"
      }
    },
    {
      "cell_type": "code",
      "source": [
        "from langchain.text_splitter import RecursiveCharacterTextSplitter\n",
        "\n",
        "text_splitter = RecursiveCharacterTextSplitter(chunk_size=1024, chunk_overlap=32)\n",
        "texts_RecursiveCharacterTextSplitter = text_splitter.split_documents(docs)\n",
        "\n",
        "simple_splited_texts = [x.page_content for x in texts_RecursiveCharacterTextSplitter]"
      ],
      "metadata": {
        "id": "W2PEdJSRJyCm"
      },
      "execution_count": null,
      "outputs": []
    },
    {
      "cell_type": "markdown",
      "source": [
        "## Split dos textos utilizando nltk"
      ],
      "metadata": {
        "id": "f1Or2lQjTGz_"
      }
    },
    {
      "cell_type": "code",
      "source": [
        "import nltk\n",
        "nltk.download('punkt')"
      ],
      "metadata": {
        "id": "LkqoeMWdX_2J"
      },
      "execution_count": null,
      "outputs": []
    },
    {
      "cell_type": "code",
      "source": [
        "from langchain.text_splitter import NLTKTextSplitter\n",
        "\n",
        "text_splitter = NLTKTextSplitter(language = \"portuguese\", chunk_size=512, chunk_overlap  = 128)"
      ],
      "metadata": {
        "id": "s3JvvpCPDLhk"
      },
      "execution_count": null,
      "outputs": []
    },
    {
      "cell_type": "code",
      "source": [
        "texts_NLTKTextSplitter = text_splitter.split_documents(docs)\n",
        "\n",
        "nltk_splited_texts = [x.page_content for x in texts_NLTKTextSplitter]"
      ],
      "metadata": {
        "id": "UDCrQc9NVXyM"
      },
      "execution_count": null,
      "outputs": []
    },
    {
      "cell_type": "markdown",
      "source": [
        "## split utilizando a API sherpa"
      ],
      "metadata": {
        "id": "OIqUMMVz1t0c"
      }
    },
    {
      "cell_type": "code",
      "source": [
        "from llmsherpa.readers import LayoutPDFReader\n",
        "\n",
        "llmsherpa_api_url = \"https://readers.llmsherpa.com/api/document/developer/parseDocument?renderFormat=all\"\n",
        "pdf_url = \"/content/Procuradoria Geral - Normas.pdf\"\n",
        "pdf_reader = LayoutPDFReader(llmsherpa_api_url)\n",
        "doc = pdf_reader.read_pdf(pdf_url)"
      ],
      "metadata": {
        "id": "AInVzuEonrVt"
      },
      "execution_count": null,
      "outputs": []
    },
    {
      "cell_type": "code",
      "source": [
        "sherpa_texts = [x.to_context_text() for x in doc.chunks()]"
      ],
      "metadata": {
        "id": "ET5JZzx8rMpu"
      },
      "execution_count": null,
      "outputs": []
    },
    {
      "cell_type": "markdown",
      "source": [
        "## Inicializar banco"
      ],
      "metadata": {
        "id": "6JZXsnrHTRoT"
      }
    },
    {
      "cell_type": "code",
      "source": [
        "import chromadb\n",
        "\n",
        "chroma_client = chromadb.PersistentClient(path=\"/content/drive/MyDrive/NeuralmindChatBot/banco\")"
      ],
      "metadata": {
        "id": "Falhjt7ETX2J"
      },
      "execution_count": null,
      "outputs": []
    },
    {
      "cell_type": "code",
      "source": [
        "collection_ada_RecursiveCharacterTextSplitter = chroma_client.create_collection(\n",
        "    name=\"textos_ada_RecursiveCharacterTextSplitter\",\n",
        "    metadata={\"hnsw:space\": \"cosine\"}\n",
        ")\n",
        "\n",
        "collection_ada_nltk = chroma_client.create_collection(\n",
        "    name=\"textos_ada_nltk\",\n",
        "    metadata={\"hnsw:space\": \"cosine\"}\n",
        ")\n",
        "\n",
        "collection_ada_sherpa = chroma_client.create_collection(\n",
        "    name=\"textos_ada_sherpa\",\n",
        "    metadata={\"hnsw:space\": \"cosine\"}\n",
        ")\n",
        "\n",
        "collection_e5_large = chroma_client.create_collection(\n",
        "    name=\"textos_e5_large_nltk\",\n",
        "    metadata={\"hnsw:space\": \"cosine\"}\n",
        ")"
      ],
      "metadata": {
        "id": "WP2lIhyMTd3-"
      },
      "execution_count": null,
      "outputs": []
    },
    {
      "cell_type": "code",
      "source": [
        "collection_ada_RecursiveCharacterTextSplitter = chroma_client.get_collection(name=\"textos_ada_RecursiveCharacterTextSplitter\")\n",
        "\n",
        "collection_ada_nltk = chroma_client.get_collection(name=\"textos_ada_nltk\")\n",
        "\n",
        "collection_ada_sherpa = chroma_client.get_collection(name=\"textos_ada_sherpa\")\n",
        "\n",
        "collection_e5_large = chroma_client.get_collection(name=\"textos_e5_large_nltk\")"
      ],
      "metadata": {
        "id": "a0Ui89YcT1IF"
      },
      "execution_count": null,
      "outputs": []
    },
    {
      "cell_type": "markdown",
      "source": [
        "## Transformar textos em embeddings"
      ],
      "metadata": {
        "id": "V8jGTUcZVkYG"
      }
    },
    {
      "cell_type": "markdown",
      "source": [
        "### e5-large"
      ],
      "metadata": {
        "id": "Spz0fv7wV3ET"
      }
    },
    {
      "cell_type": "code",
      "source": [
        "from sentence_transformers import SentenceTransformer\n",
        "multilingual_e5_large = SentenceTransformer('intfloat/multilingual-e5-large')"
      ],
      "metadata": {
        "id": "8ByNC2GWV1i8"
      },
      "execution_count": null,
      "outputs": []
    },
    {
      "cell_type": "code",
      "source": [
        "e5_texts = [f\"passage: {text}\" for text in nltk_splited_texts]"
      ],
      "metadata": {
        "id": "xVdHeTnCfLkH"
      },
      "execution_count": null,
      "outputs": []
    },
    {
      "cell_type": "code",
      "source": [
        "embeddings_e5 = multilingual_e5_large.encode(e5_texts)"
      ],
      "metadata": {
        "id": "MU92K7nhec0x"
      },
      "execution_count": null,
      "outputs": []
    },
    {
      "cell_type": "code",
      "source": [
        "collection_e5_large.add(\n",
        "    embeddings = embeddings_e5.tolist(),\n",
        "    documents = e5_texts,\n",
        "    ids=[str(i) for i in range(len(embeddings_e5))]\n",
        ")"
      ],
      "metadata": {
        "id": "vEd1zFYCfGJQ"
      },
      "execution_count": null,
      "outputs": []
    },
    {
      "cell_type": "markdown",
      "source": [
        "### Ada - Open IA"
      ],
      "metadata": {
        "id": "xJknBt6SV6a2"
      }
    },
    {
      "cell_type": "code",
      "source": [
        "from langchain.embeddings import OpenAIEmbeddings\n",
        "\n",
        "ada_model = OpenAIEmbeddings(model_kwargs = {\"model_name\":\"text-embedding-ada-002\"})"
      ],
      "metadata": {
        "id": "f3HAsvaMV9Ky"
      },
      "execution_count": null,
      "outputs": []
    },
    {
      "cell_type": "code",
      "source": [
        "embeddings_ada = ada_model.embed_documents(simple_splited_texts)"
      ],
      "metadata": {
        "id": "stN_FnKn3lvu"
      },
      "execution_count": null,
      "outputs": []
    },
    {
      "cell_type": "code",
      "source": [
        "embeddings_ada_nltk = ada_model.embed_documents(nltk_splited_texts)"
      ],
      "metadata": {
        "id": "-6Y-Utm0FBbb"
      },
      "execution_count": null,
      "outputs": []
    },
    {
      "cell_type": "code",
      "source": [
        "embeddings_ada_sherpa = ada_model.embed_documents(sherpa_texts)"
      ],
      "metadata": {
        "id": "gnahKwKTGdn-"
      },
      "execution_count": null,
      "outputs": []
    },
    {
      "cell_type": "code",
      "source": [
        "collection_ada_RecursiveCharacterTextSplitter.add(\n",
        "    embeddings = embeddings_ada,\n",
        "    documents = simple_splited_texts,\n",
        "    ids=[str(i) for i in range(len(simple_splited_texts))]\n",
        ")"
      ],
      "metadata": {
        "id": "MJ8MEmpq4yER"
      },
      "execution_count": null,
      "outputs": []
    },
    {
      "cell_type": "code",
      "source": [
        "collection_ada_nltk.add(\n",
        "    embeddings = embeddings_ada_nltk,\n",
        "    documents = nltk_splited_texts,\n",
        "    ids=[str(i) for i in range(len(nltk_splited_texts))]\n",
        ")"
      ],
      "metadata": {
        "id": "5JixChLKE8aU"
      },
      "execution_count": null,
      "outputs": []
    },
    {
      "cell_type": "code",
      "source": [
        "collection_ada_sherpa.add(\n",
        "    embeddings = embeddings_ada_sherpa,\n",
        "    documents = sherpa_texts,\n",
        "    ids=[str(i) for i in range(len(embeddings_ada_sherpa))]\n",
        ")"
      ],
      "metadata": {
        "id": "TgA7IxEbG7t0"
      },
      "execution_count": null,
      "outputs": []
    },
    {
      "cell_type": "markdown",
      "source": [
        "## Retriever"
      ],
      "metadata": {
        "id": "wX9U5i0zWvat"
      }
    },
    {
      "cell_type": "code",
      "source": [
        "class CustomRetriver:\n",
        "  def __init__(self, collection, embeddingModel, modelName):\n",
        "    self.collection = collection\n",
        "    self.modelName = modelName\n",
        "    self.model = embeddingModel\n",
        "\n",
        "  def embed_query(self, query):\n",
        "    if(self.modelName == \"e5_large\"):\n",
        "      queryText = f\"query: {query}\"\n",
        "      embeddedQuery = self.model.encode([queryText])\n",
        "      return embeddedQuery[0].tolist()\n",
        "    elif(self.modelName == \"open_ia\"):\n",
        "      return self.model.embed_query(query)\n",
        "\n",
        "  def query_topK(self, query, n_results):\n",
        "    embeddedQuery = self.embed_query(query)\n",
        "\n",
        "    results = self.collection.query(\n",
        "      query_embeddings = [embeddedQuery],\n",
        "      n_results = n_results\n",
        "    )\n",
        "\n",
        "    topk = []\n",
        "\n",
        "    for text in results['documents'][0]:\n",
        "      topk.append(text)\n",
        "\n",
        "    return topk"
      ],
      "metadata": {
        "id": "bXKtVjnjWyLW"
      },
      "execution_count": null,
      "outputs": []
    },
    {
      "cell_type": "markdown",
      "source": [
        "### Inicializa os retrievers"
      ],
      "metadata": {
        "id": "TBWM9LphQOd5"
      }
    },
    {
      "cell_type": "code",
      "source": [
        "ada_retriever_nltk = CustomRetriver(collection_ada_nltk, ada_model, \"open_ia\")"
      ],
      "metadata": {
        "id": "rehLmC0xYDSp"
      },
      "execution_count": null,
      "outputs": []
    },
    {
      "cell_type": "code",
      "source": [
        "ada_retriver_sherpa = CustomRetriver(collection_ada_sherpa, ada_model, \"open_ia\")"
      ],
      "metadata": {
        "id": "hMaTzSM4T99A"
      },
      "execution_count": null,
      "outputs": []
    },
    {
      "cell_type": "code",
      "source": [
        "ada_retriever_recursive = CustomRetriver(collection_ada_RecursiveCharacterTextSplitter, ada_model, \"open_ia\")"
      ],
      "metadata": {
        "id": "1RE4lQPBT-H7"
      },
      "execution_count": null,
      "outputs": []
    },
    {
      "cell_type": "code",
      "source": [
        "e5_retriever = CustomRetriver(collection_e5_large, multilingual_e5_large, \"e5_large\")"
      ],
      "metadata": {
        "id": "7MV63800f0p-"
      },
      "execution_count": null,
      "outputs": []
    },
    {
      "cell_type": "markdown",
      "source": [
        "## Avaliação do sistema de retrieval"
      ],
      "metadata": {
        "id": "gt6Jla10TEYe"
      }
    },
    {
      "cell_type": "markdown",
      "source": [
        "### Metricas utilizadas para avaliar o retrieval"
      ],
      "metadata": {
        "id": "X8LFeBEIEv7s"
      }
    },
    {
      "cell_type": "code",
      "source": [
        "def calculate_map(relevant_texts, retrieved_texts):\n",
        "  total_precision = 0\n",
        "  relevant_count = 0\n",
        "  precision_values = []\n",
        "\n",
        "  for i, text in enumerate(retrieved_texts, start = 1):\n",
        "    if(any([trecho.lower() in text.lower() for trecho in relevant_texts])):\n",
        "      relevant_count += 1\n",
        "      precision_at_i = relevant_count / i\n",
        "      precision_values.append(precision_at_i)\n",
        "\n",
        "  if not precision_values:\n",
        "      return 0\n",
        "\n",
        "  map_score = sum(precision_values) / len(precision_values)\n",
        "  return map_score"
      ],
      "metadata": {
        "id": "4imOfWLV9x1G"
      },
      "execution_count": null,
      "outputs": []
    },
    {
      "cell_type": "code",
      "source": [
        "import math\n",
        "\n",
        "def calculate_ndcg(relevant_texts, retrieved_texts):\n",
        "    def calculate_dcg(relevances):\n",
        "        dcg = 0\n",
        "        for i, rel in enumerate(relevances, start=1):\n",
        "            dcg += (rel) / math.log2(i + 1)\n",
        "        return dcg\n",
        "\n",
        "    def calculate_idcg(relevances):\n",
        "        sorted_relevances = sorted(relevances, reverse=True)\n",
        "        return calculate_dcg(sorted_relevances)\n",
        "\n",
        "    relevances = [1 if any([trecho.lower() in text for trecho in relevant_texts]) else 0 for text in retrieved_texts]\n",
        "\n",
        "    dcg = calculate_dcg(relevances)\n",
        "\n",
        "    idcg = calculate_idcg(relevances)\n",
        "\n",
        "    if idcg == 0:\n",
        "        ndcg = 0\n",
        "    else:\n",
        "        ndcg = dcg / idcg\n",
        "\n",
        "    return ndcg\n"
      ],
      "metadata": {
        "id": "RI2JcEgccJiV"
      },
      "execution_count": null,
      "outputs": []
    },
    {
      "cell_type": "code",
      "source": [
        "def calculate_recall_at_k(relevant_texts, retrieved_texts, k):\n",
        "    relevant_count = 0\n",
        "\n",
        "    for i, text in enumerate(retrieved_texts[:k], start = 1):\n",
        "      if(any([trecho.lower() in text.lower() for trecho in relevant_texts[:k]])):\n",
        "        relevant_count += 1\n",
        "\n",
        "    recall_at_k = relevant_count / len(relevant_texts) if len(relevant_texts) > 0 else 0\n",
        "    return recall_at_k"
      ],
      "metadata": {
        "id": "k5J_GipzjUVv"
      },
      "execution_count": null,
      "outputs": []
    },
    {
      "cell_type": "code",
      "source": [
        "def calculate_precision_at_k(relevant_texts, retrieved_texts, k):\n",
        "    relevant_count = 0\n",
        "\n",
        "    for i, text in enumerate(retrieved_texts[:k], start = 1):\n",
        "      if(any([trecho.lower() in text.lower() for trecho in relevant_texts[:k]])):\n",
        "        relevant_count += 1\n",
        "\n",
        "    precision_at_k = relevant_count / k if k > 0 else 0\n",
        "    return precision_at_k"
      ],
      "metadata": {
        "id": "352Zu-WACLzD"
      },
      "execution_count": null,
      "outputs": []
    },
    {
      "cell_type": "code",
      "source": [
        "def calculate_f1_score(precision, recall):\n",
        "    f1_score = 2 * (precision * recall) / (precision + recall) if (precision + recall) > 0 else 0\n",
        "    return f1_score"
      ],
      "metadata": {
        "id": "IFYAmBb_DvFi"
      },
      "execution_count": null,
      "outputs": []
    },
    {
      "cell_type": "markdown",
      "source": [
        "### Função de avaliação do retrieval"
      ],
      "metadata": {
        "id": "Y9TTo-EaE2lZ"
      }
    },
    {
      "cell_type": "code",
      "source": [
        "def media(resultado, nome):\n",
        "  return f\"{nome}: {sum(resultado[nome]) / len(resultado[nome])}\\n\""
      ],
      "metadata": {
        "id": "wEWuAXdJKrUj"
      },
      "execution_count": null,
      "outputs": []
    },
    {
      "cell_type": "code",
      "source": [
        "def salvar_retrieval_results(resultado, nome_exp):\n",
        "  with open(\"/content/drive/MyDrive/NeuralmindChatBot/analises/retrieval.txt\", \"a\") as file:\n",
        "    res = f\"{nome_exp}: \\n\\n\"\n",
        "    res = res + media(resultado, \"maps\") + media(resultado, \"ndcg\") + media(resultado, \"precision_at_three\") + media(resultado, \"recall_at_three\") + media(resultado, \"f1_score\") + \"\\n\\n\"\n",
        "\n",
        "    file.write(res)"
      ],
      "metadata": {
        "id": "je8mxC3fl_uL"
      },
      "execution_count": null,
      "outputs": []
    },
    {
      "cell_type": "code",
      "source": [
        "import csv\n",
        "import time\n",
        "\n",
        "def evaluate_retrieval(retrieval_model, dataset_path, model_name):\n",
        "\n",
        "    maps = []\n",
        "    ndcg = []\n",
        "    precision_at_three = []\n",
        "    recall_at_three = []\n",
        "    f1_score = []\n",
        "\n",
        "    with open(dataset_path, 'r') as file:\n",
        "        dataset = csv.reader(file)\n",
        "\n",
        "        for i, row in enumerate(dataset):\n",
        "            question = row[0]\n",
        "            relevant_texts = eval(row[1])\n",
        "            answer = row[2]\n",
        "\n",
        "            time.sleep(21)\n",
        "\n",
        "            retrieved_texts = retrieval_model.query_topK(question, 5)\n",
        "\n",
        "            if(model_name == \"e5_large\"):\n",
        "              retrieved_texts = [text.replace(\"passage: \", \"\", 1) for text in retrieved_texts]\n",
        "\n",
        "            time.sleep(1)\n",
        "\n",
        "            # calculo das metricas MAP e NDCG\n",
        "            maps.append(calculate_map(relevant_texts, retrieved_texts))\n",
        "            ndcg.append(calculate_ndcg(relevant_texts, retrieved_texts))\n",
        "\n",
        "            #calculo das metricas precision, recall and F1 score\n",
        "            precision = calculate_precision_at_k(relevant_texts, retrieved_texts, 3)\n",
        "            recall = calculate_recall_at_k(relevant_texts, retrieved_texts, 3)\n",
        "            precision_at_three.append(precision)\n",
        "            recall_at_three.append(recall)\n",
        "            f1_score.append(calculate_f1_score(precision, recall))\n",
        "\n",
        "    return {\n",
        "        \"maps\": maps,\n",
        "        \"ndcg\": ndcg,\n",
        "        \"precision_at_three\": precision_at_three,\n",
        "        \"recall_at_three\": recall_at_three,\n",
        "        \"f1_score\": f1_score\n",
        "    }"
      ],
      "metadata": {
        "id": "dOkhWUp2VFOg"
      },
      "execution_count": null,
      "outputs": []
    },
    {
      "cell_type": "markdown",
      "source": [
        "### calculando os resultados do retrieval"
      ],
      "metadata": {
        "id": "9IJC1BLeod3p"
      }
    },
    {
      "cell_type": "markdown",
      "source": [
        "Os passos a seguir devem ser feitos para todos os retrievers"
      ],
      "metadata": {
        "id": "fao6i_viQuvc"
      }
    },
    {
      "cell_type": "code",
      "source": [
        "resultado = evaluate_retrieval(ada_retriever_nltk, \"/content/validacaoFinal.csv\", \"open_ia\")"
      ],
      "metadata": {
        "id": "jVJh9IMaGXwK"
      },
      "execution_count": null,
      "outputs": []
    },
    {
      "cell_type": "code",
      "source": [
        "salvar_retrieval_results(resultado, \"embedding ada_002 com Nltk e dataset final\")"
      ],
      "metadata": {
        "id": "088YIo76nVjp"
      },
      "execution_count": null,
      "outputs": []
    },
    {
      "cell_type": "markdown",
      "source": [
        "## Avaliação das respostas"
      ],
      "metadata": {
        "id": "ayzjHj1ZVBUj"
      }
    },
    {
      "cell_type": "markdown",
      "source": [
        "### Metricas para avaliar respostas"
      ],
      "metadata": {
        "id": "FitbQQryplGT"
      }
    },
    {
      "cell_type": "code",
      "source": [
        "import nltk\n",
        "nltk.download('punkt')"
      ],
      "metadata": {
        "id": "BzZN6bhNIFq_"
      },
      "execution_count": null,
      "outputs": []
    },
    {
      "cell_type": "code",
      "source": [
        "from nltk import word_tokenize\n",
        "\n",
        "def calculate_precision_recall_f1_tokens(predicted_answer, ground_truth):\n",
        "    \"\"\"\n",
        "    Calcula precision, recall e f1 score considerando os tokens das strings\n",
        "    predicted_answer e ground_truth.\n",
        "    \"\"\"\n",
        "\n",
        "    predicted_tokens = word_tokenize(predicted_answer.lower())\n",
        "    ground_truth_tokens = word_tokenize(ground_truth.lower())\n",
        "\n",
        "    TP = len(set(predicted_tokens) & set(ground_truth_tokens))\n",
        "\n",
        "    FP = len(set(predicted_tokens) - set(ground_truth_tokens))\n",
        "\n",
        "    FN = len(set(ground_truth_tokens) - set(predicted_tokens))\n",
        "\n",
        "    precision = TP / (TP + FP) if (TP + FP) > 0 else 0\n",
        "    recall = TP / (TP + FN) if (TP + FN) > 0 else 0\n",
        "\n",
        "    return precision, recall, calculate_f1_score(precision, recall)"
      ],
      "metadata": {
        "id": "-eUrlQbQrWBQ"
      },
      "execution_count": null,
      "outputs": []
    },
    {
      "cell_type": "code",
      "source": [
        "from sentence_transformers.cross_encoder import CrossEncoder\n",
        "model = CrossEncoder('cross-encoder/stsb-roberta-large')"
      ],
      "metadata": {
        "id": "B_QaEblYIom6"
      },
      "execution_count": null,
      "outputs": []
    },
    {
      "cell_type": "code",
      "source": [
        "def similarity(predicted, expected):\n",
        "  res = model.predict([predicted, expected])\n",
        "  return res"
      ],
      "metadata": {
        "id": "dXmPYCyhL-kI"
      },
      "execution_count": null,
      "outputs": []
    },
    {
      "cell_type": "markdown",
      "source": [
        "### Função de avaliação de respostas"
      ],
      "metadata": {
        "id": "x6VIyFDdpvF5"
      }
    },
    {
      "cell_type": "markdown",
      "source": [
        "#### Instanciando o LLM"
      ],
      "metadata": {
        "id": "v3qUvftBYm1y"
      }
    },
    {
      "cell_type": "code",
      "source": [
        "from langchain.chat_models import ChatOpenAI\n",
        "\n",
        "chat = ChatOpenAI(max_tokens=250, model = \"gpt-3.5-turbo\", temperature=0.1)"
      ],
      "metadata": {
        "id": "ZsgKK6J4dspm"
      },
      "execution_count": null,
      "outputs": []
    },
    {
      "cell_type": "code",
      "source": [
        "from langchain.prompts import PromptTemplate\n",
        "\n",
        "prompt = PromptTemplate.from_template(\n",
        "    \"\"\"Considering these texts as context: {context}.\n",
        "    Give me a brilliant answer to the following question: {question}\n",
        "\n",
        "    Make sure to answer using Portuguese language\"\"\"\n",
        ")"
      ],
      "metadata": {
        "id": "CwD__cpUG_RG"
      },
      "execution_count": null,
      "outputs": []
    },
    {
      "cell_type": "code",
      "source": [
        "chain = prompt | chat"
      ],
      "metadata": {
        "id": "f45ux77_qvob"
      },
      "execution_count": null,
      "outputs": []
    },
    {
      "cell_type": "markdown",
      "source": [
        "#### Função de avaliação das respostas"
      ],
      "metadata": {
        "id": "HAIX5IOKMvtu"
      }
    },
    {
      "cell_type": "code",
      "source": [
        "import csv\n",
        "import time\n",
        "\n",
        "def evaluate_question_answering(chain, retriever, dataset_path, model_name):\n",
        "\n",
        "  predictions = []\n",
        "\n",
        "  precision_list = []\n",
        "  recall_list = []\n",
        "  f1_score_list = []\n",
        "  cross_encoder_similarity = []\n",
        "\n",
        "\n",
        "  with open(dataset_path, 'r') as file:\n",
        "        dataset = csv.reader(file)\n",
        "\n",
        "        for i, row in enumerate(dataset):\n",
        "            question = row[0]\n",
        "            human_answer = row[2]\n",
        "\n",
        "            retrieved_texts = retriever.query_topK(question, 10)\n",
        "\n",
        "            if(model_name == \"e5_large\"):\n",
        "              retrieved_texts = [text.replace(\"passage: \", \"\", 1) for text in retrieved_texts]\n",
        "\n",
        "            context = \"\\n\".join(retrieved_texts)\n",
        "\n",
        "            predicted_answer = chain.invoke({\"context\": context, \"question\": question})\n",
        "\n",
        "            time.sleep(21)\n",
        "\n",
        "            predicted_answer = predicted_answer.content\n",
        "\n",
        "            precision, recall, f1_score = calculate_precision_recall_f1_tokens(predicted_answer, human_answer)\n",
        "\n",
        "            precision_list.append(precision)\n",
        "            recall_list.append(recall)\n",
        "            f1_score_list.append(f1_score)\n",
        "\n",
        "            predictions.append(predicted_answer)\n",
        "\n",
        "            cross_encoder_similarity.append(similarity(predicted_answer, human_answer))\n",
        "\n",
        "  return {\n",
        "      \"precision_list\": precision_list,\n",
        "      \"recall_list\": recall_list,\n",
        "      \"f1_score_list\": f1_score_list,\n",
        "      \"cross_encoder_similarity\": cross_encoder_similarity,\n",
        "      \"answers\":  predictions\n",
        "  }"
      ],
      "metadata": {
        "id": "evQ_IpPJraTa"
      },
      "execution_count": null,
      "outputs": []
    },
    {
      "cell_type": "markdown",
      "source": [
        "### calculando resultados das respostas"
      ],
      "metadata": {
        "id": "QlqmAcEmp1-A"
      }
    },
    {
      "cell_type": "code",
      "source": [
        "qa_evaluation = evaluate_question_answering(chain, ada_retriever_nltk, \"/content/validacaoFinal.csv\", \"open_ia\")"
      ],
      "metadata": {
        "id": "b_aC2t4Wp92Q"
      },
      "execution_count": null,
      "outputs": []
    },
    {
      "cell_type": "code",
      "source": [
        "def salvar_qa_results(resultado, nome_exp):\n",
        "  with open(\"/content/drive/MyDrive/NeuralmindChatBot/analises/qa_evaluate.txt\", \"a\") as file:\n",
        "    res = f\"{nome_exp}: \\n\\n\"\n",
        "\n",
        "    bleu_str = f'bleu: {resultado[\"bleu\"]}\\n'\n",
        "\n",
        "    res = res + bleu_str + media(resultado, \"precision_list\") + media(resultado, \"recall_list\") + media(resultado, \"f1_score_list\") + media(resultado, \"cross_encoder_similarity\") + \"\\n\\n\"\n",
        "\n",
        "    file.write(res)"
      ],
      "metadata": {
        "id": "HdgLW9i7TMXB"
      },
      "execution_count": null,
      "outputs": []
    },
    {
      "cell_type": "code",
      "source": [
        "salvar_qa_results(qa_evaluation, \"chat-gpt-3.5-turbo | ada_002 | nltk spliterr | dataset final\")"
      ],
      "metadata": {
        "id": "MnwCL83Rp2oz"
      },
      "execution_count": null,
      "outputs": []
    },
    {
      "cell_type": "code",
      "source": [
        "with open(\"/content/drive/MyDrive/NeuralmindChatBot/analises/respostasNovas.txt\", \"w\") as file:\n",
        "    for res in qa_evaluation[\"answers\"]:\n",
        "      file.writelines(res + \"\\n --------------------------------------- \\n\\n\")"
      ],
      "metadata": {
        "id": "zbR79pzUxjka"
      },
      "execution_count": null,
      "outputs": []
    }
  ]
}